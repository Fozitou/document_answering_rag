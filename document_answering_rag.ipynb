{
  "nbformat": 4,
  "nbformat_minor": 0,
  "metadata": {
    "colab": {
      "provenance": []
    },
    "kernelspec": {
      "name": "python3",
      "display_name": "Python 3"
    },
    "language_info": {
      "name": "python"
    }
  },
  "cells": [
    {
      "cell_type": "markdown",
      "source": [
        "### **Document Answering with RAG and OpenAI API**\n",
        "---"
      ],
      "metadata": {
        "id": "_6VNlupBaTb5"
      }
    },
    {
      "cell_type": "markdown",
      "source": [
        "      1.   Cleaning Resources and Generating Embeddings:"
      ],
      "metadata": {
        "id": "FldY31ikEaOI"
      }
    },
    {
      "cell_type": "code",
      "execution_count": null,
      "metadata": {
        "id": "Hc69ICrp7PN2",
        "collapsed": true
      },
      "outputs": [],
      "source": [
        "from openai import OpenAI\n",
        "import numpy as np\n",
        "\n",
        "client = OpenAI(api_key=\"<api_key>\")\n",
        "\n",
        "query = \"Who is Lionel Messi?\"\n",
        "\n",
        "response = client.embeddings.create(\n",
        "    input=query,\n",
        "    model=\"text-embedding-3-small\"\n",
        ").data[0].embedding\n",
        "\n",
        "resource = open(\"messi.txt\", 'r')\n",
        "resource_list = resource.readlines()\n",
        "resource.close()\n",
        "\n",
        "filtered_resources = []\n",
        "for line in resource_list:\n",
        "    line = line.strip()\n",
        "    if line != \"\" and len(line) >= 100:\n",
        "        filtered_resources.append(line)\n",
        "\n",
        "resource_responses = client.embeddings.create(\n",
        "    input=filtered_resources,\n",
        "    model=\"text-embedding-3-small\"\n",
        ").data\n",
        "\n",
        "resource_embeddings = {}\n",
        "for i in range(len(resource_responses)):\n",
        "    resource_embeddings[i] = np.array(resource_responses[i].embedding)\n",
        "\n",
        "query_embedding = np.array(response)"
      ]
    },
    {
      "cell_type": "markdown",
      "source": [
        "      2.   Calculating Simularity and finding most compatible resource:"
      ],
      "metadata": {
        "id": "Di0W57qQEZja"
      }
    },
    {
      "cell_type": "code",
      "source": [
        "def cosine_similarity(A, B):\n",
        "    return np.dot(A,B) / (np.linalg.norm(A) * np.linalg.norm(B))\n",
        "\n",
        "similarity = {}\n",
        "for i in range(len(resource_embeddings)):\n",
        "    similarity[i] = cosine_similarity(query_embedding, resource_embeddings[i])\n",
        "\n",
        "most_similar_resource_index = max(similarity, key=similarity.get)\n",
        "most_similar_resource = filtered_resources[most_similar_resource_index]\n",
        "\n",
        "print(f\"Resource with highest similarity: {most_similar_resource}\")\n",
        "print(f\"Similarity Score: {similarity[most_similar_resource_index]}\")"
      ],
      "metadata": {
        "colab": {
          "base_uri": "https://localhost:8080/"
        },
        "id": "JmjOsnm9FLoG",
        "outputId": "a48fcfa7-69d9-406b-ef73-646cf5992c68"
      },
      "execution_count": null,
      "outputs": [
        {
          "output_type": "stream",
          "name": "stdout",
          "text": [
            "Resource with highest similarity: Lionel Andrés Messi[note 1] (Spanish pronunciation: [ljoˈnel anˈdɾes ˈmesi] ⓘ; born 24 June 1987), also known as Leo Messi, is an Argentine professional footballer who plays as a forward for and captains both Major League Soccer club Inter Miami and the Argentina national team. Widely regarded as one of the greatest players of all time, Messi set numerous records for individual accolades won throughout his professional footballing career such as eight Ballon d'Or awards and eight times being named the world's best player by FIFA.[note 2] He is the most decorated player in the history of professional football having won 45 team trophies,[note 3] including twelve league titles, four UEFA Champions Leagues, two Copa Américas, and one FIFA World Cup. Messi holds the records for most European Golden Shoes (6), most goals for a single club (672, with Barcelona), most goals (474), hat-tricks (36) and assists (192) in La Liga, most matches played (39), assists (18) and goal contributions (34) in the Copa América, most matches played (26) and goal contributions (21) in the World Cup, most international appearances (189) and international goals (112) by a South American male, and the second-most in the latter category outright. A prolific goalscorer and creative playmaker, Messi has scored over 850 senior career goals for club and country.\n",
            "Similarity Score: 0.7477509792231501\n"
          ]
        }
      ]
    },
    {
      "cell_type": "markdown",
      "source": [
        "      3.   Creating prompt and asking LLM for answer:"
      ],
      "metadata": {
        "id": "R0l6brxsEaTF"
      }
    },
    {
      "cell_type": "code",
      "source": [
        "prompt = f\"\"\"Based on the following resource, answer the question: {query}\n",
        "\n",
        "Resource: {most_similar_resource}\n",
        "\"\"\"\n",
        "\n",
        "chat_completion = client.chat.completions.create(\n",
        "    messages=[\n",
        "        {\n",
        "            \"role\": \"user\",\n",
        "            \"content\": prompt,\n",
        "        }\n",
        "    ],\n",
        "    model=\"gpt-4\",\n",
        ")\n",
        "\n",
        "print(\"LLM Response:\")\n",
        "print(chat_completion.choices[0].message.content.strip())"
      ],
      "metadata": {
        "colab": {
          "base_uri": "https://localhost:8080/"
        },
        "id": "CWGNxPgeFH0M",
        "outputId": "aed6f3ab-6c86-4c00-ed33-f10c88b06877"
      },
      "execution_count": null,
      "outputs": [
        {
          "output_type": "stream",
          "name": "stdout",
          "text": [
            "LLM Response:\n",
            "Lionel Messi, also known as Leo Messi, is an Argentine professional footballer born on 24 June 1987. He is widely regarded as one of the greatest players of all time and has set numerous records throughout his career. He plays as a forward for Major League Soccer club Inter Miami and the Argentina national team, acting as captain for both. Messi has a plethora of individual accolades, including eight Ballon d'Or awards and eight FIFA World Player of the Year awards. He is the most decorated player in professional football history, with 45 team trophies including twelve league titles, four UEFA Champions Leagues, two Copa Américas, and one FIFA World Cup. Messi is also a prolific goalscorer and creative playmaker, having scored over 850 senior career goals for club and country.\n"
          ]
        }
      ]
    }
  ]
}